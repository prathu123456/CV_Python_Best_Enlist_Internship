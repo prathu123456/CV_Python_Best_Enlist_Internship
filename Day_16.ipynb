{
 "cells": [
  {
   "cell_type": "markdown",
   "metadata": {},
   "source": [
    "1) Create a lambda function that multiplies argument x with argument y"
   ]
  },
  {
   "cell_type": "code",
   "execution_count": 1,
   "metadata": {},
   "outputs": [
    {
     "name": "stdout",
     "output_type": "stream",
     "text": [
      "Product of x and y = 56\n"
     ]
    }
   ],
   "source": [
    "product = lambda x, y : x * y\n",
    "print(\"Product of x and y =\",product(7,8))"
   ]
  },
  {
   "cell_type": "markdown",
   "metadata": {},
   "source": [
    "2) Write a Python program to create Fibonacci series to n using Lambda"
   ]
  },
  {
   "cell_type": "code",
   "execution_count": 2,
   "metadata": {},
   "outputs": [
    {
     "name": "stdout",
     "output_type": "stream",
     "text": [
      "How many terms :9\n",
      "Fibonacci series upto 9 is [0, 1, 1, 2, 3, 5, 8, 13, 21]\n"
     ]
    }
   ],
   "source": [
    "from functools import reduce\n",
    "fib_series = lambda n: reduce(lambda x, _: x+[x[-1]+x[-2]],range(n-2), [0, 1])\n",
    "n = int(input(\"How many terms :\"))\n",
    "print(\"Fibonacci series upto\",n,\"is\",fib_series(n))"
   ]
  },
  {
   "cell_type": "markdown",
   "metadata": {},
   "source": [
    "3) Write a Python program that multiply each number of given list with a given number"
   ]
  },
  {
   "cell_type": "code",
   "execution_count": 3,
   "metadata": {},
   "outputs": [
    {
     "name": "stdout",
     "output_type": "stream",
     "text": [
      "List= [3, 6, 4, 5, 9, 2, 5]\n",
      "Enter the number = 8\n",
      "List multiplied by 8 = [24, 48, 32, 40, 72, 16, 40]\n"
     ]
    }
   ],
   "source": [
    "lista=[3,6,4,5,9,2,5]\n",
    "print(\"List=\",lista)\n",
    "n = int(input(\"Enter the number = \"))\n",
    "multiplied_list = list(map(lambda x: x*n,lista))\n",
    "print(\"List multiplied by\",n,\"=\",multiplied_list)"
   ]
  },
  {
   "cell_type": "markdown",
   "metadata": {},
   "source": [
    "4) Write a Python program to find numbers divisible by 9 from a list of numbers "
   ]
  },
  {
   "cell_type": "code",
   "execution_count": 4,
   "metadata": {},
   "outputs": [
    {
     "name": "stdout",
     "output_type": "stream",
     "text": [
      "List = [12, 18, 54, 63, 67, 89, 45]\n",
      "Numbers divisible by 9 are [18, 54, 63, 45]\n"
     ]
    }
   ],
   "source": [
    "a = [12,18,54,63,67,89,45]\n",
    "print(\"List =\",a)\n",
    "result = list(filter(lambda x: (x % 9 == 0), a))\n",
    "print(\"Numbers divisible by 9 are\",result)"
   ]
  },
  {
   "cell_type": "markdown",
   "metadata": {},
   "source": [
    "5) Write a Python program to count the even numbers in a given list of integers"
   ]
  },
  {
   "cell_type": "code",
   "execution_count": 5,
   "metadata": {},
   "outputs": [
    {
     "name": "stdout",
     "output_type": "stream",
     "text": [
      "Given list : [1, 5, 8, 6, 9, 4, 46, 57, 68, 5, 44, 35]\n",
      "Even numbers in given list : [8, 6, 4, 46, 68, 44]\n",
      "Total even numbers in list:  6\n"
     ]
    }
   ],
   "source": [
    "b = [1,5,8,6,9,4,46,57,68,5,44,35]\n",
    "print(\"Given list :\",b)\n",
    "result = list(filter(lambda x: (x % 2 == 0),b))\n",
    "print(\"Even numbers in given list :\",result)\n",
    "a = len(result)\n",
    "print(\"Total even numbers in list: \",a)"
   ]
  },
  {
   "cell_type": "code",
   "execution_count": null,
   "metadata": {},
   "outputs": [],
   "source": []
  }
 ],
 "metadata": {
  "kernelspec": {
   "display_name": "Python 3",
   "language": "python",
   "name": "python3"
  },
  "language_info": {
   "codemirror_mode": {
    "name": "ipython",
    "version": 3
   },
   "file_extension": ".py",
   "mimetype": "text/x-python",
   "name": "python",
   "nbconvert_exporter": "python",
   "pygments_lexer": "ipython3",
   "version": "3.8.5"
  }
 },
 "nbformat": 4,
 "nbformat_minor": 4
}
