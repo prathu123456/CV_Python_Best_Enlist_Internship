{
 "cells": [
  {
   "cell_type": "markdown",
   "metadata": {},
   "source": [
    "1) Create a python module with list and import the module in another .py file and change the value in list"
   ]
  },
  {
   "cell_type": "code",
   "execution_count": 1,
   "metadata": {},
   "outputs": [
    {
     "name": "stdout",
     "output_type": "stream",
     "text": [
      "importing Jupyter notebook from file.ipynb\n",
      "['1', '2', '3', '4', '5', '6', '7']\n"
     ]
    }
   ],
   "source": [
    "import import_ipynb\n",
    "\n",
    "import file\n",
    "a=file.list\n",
    "a=a+['7']\n",
    "print(a)"
   ]
  },
  {
   "cell_type": "markdown",
   "metadata": {},
   "source": [
    "2) Install pandas package (try to import the package in a python file"
   ]
  },
  {
   "cell_type": "code",
   "execution_count": 2,
   "metadata": {},
   "outputs": [
    {
     "name": "stdout",
     "output_type": "stream",
     "text": [
      "<IntegerArray>\n",
      "[1, 2, 3]\n",
      "Length: 3, dtype: Int64\n"
     ]
    }
   ],
   "source": [
    "import pandas \n",
    "temp = pandas.array([1,2,3])\n",
    "print(temp)"
   ]
  },
  {
   "cell_type": "markdown",
   "metadata": {},
   "source": [
    "3) Import a module that picks random number and write a program to fetch a random number from 1 to 100 on every run"
   ]
  },
  {
   "cell_type": "code",
   "execution_count": 3,
   "metadata": {},
   "outputs": [
    {
     "name": "stdout",
     "output_type": "stream",
     "text": [
      "8\n",
      "46\n",
      "51\n",
      "8\n",
      "83\n",
      "30\n",
      "73\n"
     ]
    }
   ],
   "source": [
    "import random\n",
    "for x in range(7):\n",
    "    print(random.randint(0,100))"
   ]
  },
  {
   "cell_type": "markdown",
   "metadata": {},
   "source": [
    "4) Import sys package and find the python path"
   ]
  },
  {
   "cell_type": "code",
   "execution_count": 4,
   "metadata": {},
   "outputs": [
    {
     "name": "stdout",
     "output_type": "stream",
     "text": [
      "['C:\\\\Users\\\\DELL', 'C:\\\\Users\\\\DELL\\\\anaconda3\\\\python38.zip', 'C:\\\\Users\\\\DELL\\\\anaconda3\\\\DLLs', 'C:\\\\Users\\\\DELL\\\\anaconda3\\\\lib', 'C:\\\\Users\\\\DELL\\\\anaconda3', '', 'C:\\\\Users\\\\DELL\\\\anaconda3\\\\lib\\\\site-packages', 'C:\\\\Users\\\\DELL\\\\anaconda3\\\\lib\\\\site-packages\\\\win32', 'C:\\\\Users\\\\DELL\\\\anaconda3\\\\lib\\\\site-packages\\\\win32\\\\lib', 'C:\\\\Users\\\\DELL\\\\anaconda3\\\\lib\\\\site-packages\\\\Pythonwin', 'C:\\\\Users\\\\DELL\\\\anaconda3\\\\lib\\\\site-packages\\\\IPython\\\\extensions', 'C:\\\\Users\\\\DELL\\\\.ipython']\n"
     ]
    }
   ],
   "source": [
    "import sys\n",
    "print(sys.path)"
   ]
  },
  {
   "cell_type": "markdown",
   "metadata": {},
   "source": [
    "5) Try to install a package and uninstall a package using pip"
   ]
  },
  {
   "cell_type": "code",
   "execution_count": 5,
   "metadata": {},
   "outputs": [
    {
     "name": "stdout",
     "output_type": "stream",
     "text": [
      "Package has installed and uninstalled successfully using pip in command prompt\n"
     ]
    }
   ],
   "source": [
    "print(\"Package has installed and uninstalled successfully using pip in command prompt\")"
   ]
  },
  {
   "cell_type": "code",
   "execution_count": null,
   "metadata": {},
   "outputs": [],
   "source": []
  }
 ],
 "metadata": {
  "kernelspec": {
   "display_name": "Python 3",
   "language": "python",
   "name": "python3"
  },
  "language_info": {
   "codemirror_mode": {
    "name": "ipython",
    "version": 3
   },
   "file_extension": ".py",
   "mimetype": "text/x-python",
   "name": "python",
   "nbconvert_exporter": "python",
   "pygments_lexer": "ipython3",
   "version": "3.8.5"
  }
 },
 "nbformat": 4,
 "nbformat_minor": 4
}
