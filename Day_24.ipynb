{
 "cells": [
  {
   "cell_type": "markdown",
   "metadata": {},
   "source": [
    "1) Create a JSON of all object types and import\n",
    "the JSON into a SQL Database\n",
    "Note: The JSON file should have valus of all\n",
    "Datatypes"
   ]
  },
  {
   "cell_type": "code",
   "execution_count": 1,
   "metadata": {},
   "outputs": [
    {
     "name": "stdout",
     "output_type": "stream",
     "text": [
      "     Name  Age    Address Qualification\n",
      "0    Roit   25      Delhi          B.E.\n",
      "1  Sakshi   29     Mumbai           Msc\n",
      "2  Sanket   36  Allahabad            MA\n",
      "3    John   28    Chennai           MCA\n"
     ]
    }
   ],
   "source": [
    "import pandas as pd\n",
    "import json\n",
    "data = {'Name':['Roit', 'Sakshi', 'Sanket', 'John'],\n",
    "        'Age':[25, 29, 36, 28],\n",
    "        'Address':['Delhi', 'Mumbai', 'Allahabad', 'Chennai'],\n",
    "        'Qualification':['B.E.', 'Msc', 'MA', 'MCA']}\n",
    "with open(\"inf.json\",'w') as json_file:\n",
    "    json.dump(data,json_file)\n",
    "with open(\"inf.json\") as i:\n",
    "    data = json.load(i)\n",
    "df = pd.DataFrame(data)\n",
    "print(df)"
   ]
  },
  {
   "cell_type": "code",
   "execution_count": null,
   "metadata": {},
   "outputs": [],
   "source": []
  }
 ],
 "metadata": {
  "kernelspec": {
   "display_name": "Python 3",
   "language": "python",
   "name": "python3"
  },
  "language_info": {
   "codemirror_mode": {
    "name": "ipython",
    "version": 3
   },
   "file_extension": ".py",
   "mimetype": "text/x-python",
   "name": "python",
   "nbconvert_exporter": "python",
   "pygments_lexer": "ipython3",
   "version": "3.8.5"
  }
 },
 "nbformat": 4,
 "nbformat_minor": 4
}
