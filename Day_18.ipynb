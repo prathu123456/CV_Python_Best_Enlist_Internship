{
 "cells": [
  {
   "cell_type": "markdown",
   "metadata": {},
   "source": [
    "1) Create a DB with doctor and doctor ID & patients visited."
   ]
  },
  {
   "cell_type": "code",
   "execution_count": 4,
   "metadata": {},
   "outputs": [],
   "source": [
    "import mysql.connector\n",
    "mydb = mysql.connector.connect(\n",
    "    host=\"localhost\",\n",
    "    user=\"root\",\n",
    "    password=\"Prathu@123\",\n",
    "    database=\"mydatabase\"\n",
    ")\n",
    "db = mydb.cursor()\n",
    "db.execute(\"CREATE TABLE hospital (doctor_name VARCHAR(225), doctor_id INT, patients_visited INT)\")"
   ]
  },
  {
   "cell_type": "code",
   "execution_count": 6,
   "metadata": {},
   "outputs": [
    {
     "name": "stdout",
     "output_type": "stream",
     "text": [
      "10 was inserted.\n"
     ]
    }
   ],
   "source": [
    "import mysql.connector\n",
    "mydb = mysql.connector.connect(\n",
    "    host=\"localhost\",\n",
    "    user=\"root\",\n",
    "    password=\"Prathu@123\",\n",
    "    database=\"mydatabase\"\n",
    ")\n",
    "db = mydb.cursor()\n",
    "sql = \"INSERT INTO hospital (doctor_name, doctor_id, patients_visited) VALUES (%s, %s, %s)\"\n",
    "val = [(\"Dr.Niraj\", 1005, 5),\n",
    "       (\"Dr.Ramesh\", 1006, 4),\n",
    "       (\"Dr.Rahul\", 1007, 0),\n",
    "       (\"Dr.Ranu\", 1008, 7),\n",
    "       (\"Dr.Gauri\", 1009, 0),\n",
    "       (\"Dr.Rohit\",1010, 2),\n",
    "       (\"Dr.Niharika\", 1002, 8),\n",
    "       (\"Dr.Rani\", 1003, 4),\n",
    "       (\"Dr.Siddharth\", 1004, 2),\n",
    "       (\"Dr.Harshal\", 1001, 9)\n",
    "      ]\n",
    "db.executemany(sql, val)\n",
    "\n",
    "mydb.commit()\n",
    "\n",
    "print(db.rowcount, \"was inserted.\")"
   ]
  },
  {
   "cell_type": "markdown",
   "metadata": {},
   "source": [
    "2)  Get the doctor(s) who have more than 5 patients visited."
   ]
  },
  {
   "cell_type": "code",
   "execution_count": 8,
   "metadata": {},
   "outputs": [
    {
     "name": "stdout",
     "output_type": "stream",
     "text": [
      "('Dr.Ranu', 1008, 7)\n",
      "('Dr.Niharika', 1002, 8)\n",
      "('Dr.Harshal', 1001, 9)\n"
     ]
    }
   ],
   "source": [
    "import mysql.connector\n",
    "mydb = mysql.connector.connect(\n",
    "    host=\"localhost\",\n",
    "    user=\"root\",\n",
    "    password=\"Prathu@123\",\n",
    "    database=\"mydatabase\"\n",
    ")\n",
    "db = mydb.cursor()\n",
    "sql = \"SELECT * FROM hospital WHERE patients_visited > 5\"\n",
    "db.execute(sql)\n",
    "myresult = db.fetchall()\n",
    "for x in myresult:\n",
    "    print(x)"
   ]
  },
  {
   "cell_type": "markdown",
   "metadata": {},
   "source": [
    "3)  Get the doctors with no patients visit."
   ]
  },
  {
   "cell_type": "code",
   "execution_count": 7,
   "metadata": {},
   "outputs": [
    {
     "name": "stdout",
     "output_type": "stream",
     "text": [
      "('Dr.Rahul', 1007, 0)\n",
      "('Dr.Gauri', 1009, 0)\n"
     ]
    }
   ],
   "source": [
    "import mysql.connector\n",
    "mydb = mysql.connector.connect(\n",
    "    host=\"localhost\", \n",
    "    user=\"root\",\n",
    "    password=\"Prathu@123\",\n",
    "    database=\"mydatabase\"\n",
    ")\n",
    "db = mydb.cursor()\n",
    "sql = \"SELECT * FROM hospital WHERE patients_visited = 0\"\n",
    "db.execute(sql)\n",
    "myresult = db.fetchall()\n",
    "for x in myresult:\n",
    "    print(x)\n"
   ]
  },
  {
   "cell_type": "code",
   "execution_count": null,
   "metadata": {},
   "outputs": [],
   "source": []
  }
 ],
 "metadata": {
  "kernelspec": {
   "display_name": "Python 3",
   "language": "python",
   "name": "python3"
  },
  "language_info": {
   "codemirror_mode": {
    "name": "ipython",
    "version": 3
   },
   "file_extension": ".py",
   "mimetype": "text/x-python",
   "name": "python",
   "nbconvert_exporter": "python",
   "pygments_lexer": "ipython3",
   "version": "3.8.5"
  }
 },
 "nbformat": 4,
 "nbformat_minor": 4
}
