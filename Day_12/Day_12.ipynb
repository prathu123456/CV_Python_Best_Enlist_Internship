{
 "cells": [
  {
   "cell_type": "markdown",
   "metadata": {},
   "source": [
    "Create a file 30 days 30 hour operations\n",
    "Write data in it I have completed 10 days successfully.\n",
    "Append the data your name in to it.\n",
    "Close the file."
   ]
  },
  {
   "cell_type": "code",
   "execution_count": 1,
   "metadata": {},
   "outputs": [],
   "source": [
    "file = open(\"30 days 30 hour operations.txt\",\"w\")\n",
    "file.write(\"I have completed 10 days successfully.\")\n",
    "file.close()\n",
    "file1 = open(\"30 days 30 hour operations.txt\",\"a\")\n",
    "file1.write(\"\\nPrathmesh\")\n",
    "file1.close()"
   ]
  },
  {
   "cell_type": "code",
   "execution_count": null,
   "metadata": {},
   "outputs": [],
   "source": []
  }
 ],
 "metadata": {
  "kernelspec": {
   "display_name": "Python 3",
   "language": "python",
   "name": "python3"
  },
  "language_info": {
   "codemirror_mode": {
    "name": "ipython",
    "version": 3
   },
   "file_extension": ".py",
   "mimetype": "text/x-python",
   "name": "python",
   "nbconvert_exporter": "python",
   "pygments_lexer": "ipython3",
   "version": "3.8.5"
  }
 },
 "nbformat": 4,
 "nbformat_minor": 4
}
