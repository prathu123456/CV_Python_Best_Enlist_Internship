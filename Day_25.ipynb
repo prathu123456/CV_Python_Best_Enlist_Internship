{
 "cells": [
  {
   "cell_type": "markdown",
   "metadata": {},
   "source": [
    "1) Write a Python program to convert a string to datetime"
   ]
  },
  {
   "cell_type": "code",
   "execution_count": 1,
   "metadata": {},
   "outputs": [
    {
     "name": "stdout",
     "output_type": "stream",
     "text": [
      "2020-04-29 17:30:00\n"
     ]
    }
   ],
   "source": [
    "import datetime\n",
    "\n",
    "def convert(date_time):\n",
    "    format = '%b %d %Y %I:%M%p' # The format\n",
    "    datetime_str = datetime.datetime.strptime(date_time, format)\n",
    "    return datetime_str\n",
    "\n",
    "date_time = 'Apr 29 2020 05:30PM'\n",
    "print(convert(date_time))"
   ]
  },
  {
   "cell_type": "markdown",
   "metadata": {},
   "source": [
    "2) Write a Python program to subtract five days (last working day) from current date"
   ]
  },
  {
   "cell_type": "code",
   "execution_count": 2,
   "metadata": {},
   "outputs": [
    {
     "name": "stdout",
     "output_type": "stream",
     "text": [
      "Current Date : 2021-07-18\n",
      "5 days before Current Date  is : 2021-07-13\n"
     ]
    }
   ],
   "source": [
    "from datetime import date, timedelta\n",
    "delta = date.today() - timedelta(5)\n",
    "print('Current Date :',date.today())\n",
    "print('5 days before Current Date  is :',delta)"
   ]
  },
  {
   "cell_type": "markdown",
   "metadata": {},
   "source": [
    "3) Write a Python program to convert the date to datetime using a function "
   ]
  },
  {
   "cell_type": "code",
   "execution_count": 3,
   "metadata": {},
   "outputs": [
    {
     "name": "stdout",
     "output_type": "stream",
     "text": [
      "2021-07-18 00:00:00\n"
     ]
    }
   ],
   "source": [
    "from datetime import datetime\n",
    "dt = date.today()\n",
    "print(datetime.combine(dt, datetime.min.time()))"
   ]
  },
  {
   "cell_type": "markdown",
   "metadata": {},
   "source": [
    "4) Write a Python program to print next 7 days (week) starting from today"
   ]
  },
  {
   "cell_type": "code",
   "execution_count": 4,
   "metadata": {},
   "outputs": [
    {
     "name": "stdout",
     "output_type": "stream",
     "text": [
      "2021-07-18 23:50:21.330845\n",
      "2021-07-19 23:50:21.330845\n",
      "2021-07-20 23:50:21.330845\n",
      "2021-07-21 23:50:21.330845\n",
      "2021-07-22 23:50:21.330845\n",
      "2021-07-23 23:50:21.330845\n",
      "2021-07-24 23:50:21.330845\n"
     ]
    }
   ],
   "source": [
    "import datetime\n",
    "base = datetime.datetime.today()\n",
    "for x in range(0, 7):\n",
    "    print(base + datetime.timedelta(days=x))"
   ]
  },
  {
   "cell_type": "code",
   "execution_count": null,
   "metadata": {},
   "outputs": [],
   "source": []
  }
 ],
 "metadata": {
  "kernelspec": {
   "display_name": "Python 3",
   "language": "python",
   "name": "python3"
  },
  "language_info": {
   "codemirror_mode": {
    "name": "ipython",
    "version": 3
   },
   "file_extension": ".py",
   "mimetype": "text/x-python",
   "name": "python",
   "nbconvert_exporter": "python",
   "pygments_lexer": "ipython3",
   "version": "3.8.5"
  }
 },
 "nbformat": 4,
 "nbformat_minor": 4
}
