{
 "cells": [
  {
   "cell_type": "markdown",
   "metadata": {},
   "source": [
    "1) Enumerate a python list and try to print the counter with the list value"
   ]
  },
  {
   "cell_type": "code",
   "execution_count": 1,
   "metadata": {},
   "outputs": [
    {
     "name": "stdout",
     "output_type": "stream",
     "text": [
      "[(0, 'Durvesh'), (1, 'Nihal'), (2, 'Sonu'), (3, 'Soham'), (4, 'Kartik')]\n"
     ]
    }
   ],
   "source": [
    "lista= ['Durvesh','Nihal','Sonu','Soham','Kartik']\n",
    "print(list(enumerate(lista)))"
   ]
  },
  {
   "cell_type": "markdown",
   "metadata": {},
   "source": [
    "2) Enumerate a python tuple and try to print the counter with the tuple value"
   ]
  },
  {
   "cell_type": "code",
   "execution_count": 2,
   "metadata": {},
   "outputs": [
    {
     "name": "stdout",
     "output_type": "stream",
     "text": [
      "((0, 'Dinesh'), (1, 'Rohit'), (2, 'Mohit'), (3, 'Sonakshi'), (4, 'Sanu'))\n"
     ]
    }
   ],
   "source": [
    "tuple1=('Dinesh','Rohit','Mohit','Sonakshi','Sanu')\n",
    "print(tuple(enumerate(tuple1)))"
   ]
  },
  {
   "cell_type": "code",
   "execution_count": null,
   "metadata": {},
   "outputs": [],
   "source": []
  }
 ],
 "metadata": {
  "kernelspec": {
   "display_name": "Python 3",
   "language": "python",
   "name": "python3"
  },
  "language_info": {
   "codemirror_mode": {
    "name": "ipython",
    "version": 3
   },
   "file_extension": ".py",
   "mimetype": "text/x-python",
   "name": "python",
   "nbconvert_exporter": "python",
   "pygments_lexer": "ipython3",
   "version": "3.8.5"
  }
 },
 "nbformat": 4,
 "nbformat_minor": 4
}
