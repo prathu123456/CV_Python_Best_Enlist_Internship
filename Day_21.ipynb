{
 "cells": [
  {
   "cell_type": "markdown",
   "metadata": {},
   "source": [
    "1) Write a program using zip() function and list() function, create a\n",
    "merged list of tuples from the two lists given."
   ]
  },
  {
   "cell_type": "code",
   "execution_count": 1,
   "metadata": {},
   "outputs": [],
   "source": [
    "a1 = [56, 87, 5, 34]\n",
    "b1 = [23, 6, 78, 98]\n",
    "c = list(zip(a1, b1))\n",
    "print(c)"
   ]
  },
  {
   "cell_type": "markdown",
   "metadata": {},
   "source": [
    "2) First create a range from 1 to 8. Then using zip, merge the given list\n",
    "and the range together to create a new list of tuples."
   ]
  },
  {
   "cell_type": "code",
   "execution_count": 2,
   "metadata": {},
   "outputs": [
    {
     "name": "stdout",
     "output_type": "stream",
     "text": [
      "[(1, 'Apple'), (2, 'Mango'), (3, 'Banana'), (4, 'Guava'), (5, 'Watermelon')]\n"
     ]
    }
   ],
   "source": [
    "rage = list(range(1,8))\n",
    "a = [\"Apple\", \"Mango\", \"Banana\", \"Guava\", \"Watermelon\"]\n",
    "b = list(zip(rage,a))\n",
    "print(b)"
   ]
  },
  {
   "cell_type": "markdown",
   "metadata": {},
   "source": [
    "3) Using sorted() function, sort the list in ascending order."
   ]
  },
  {
   "cell_type": "code",
   "execution_count": 3,
   "metadata": {},
   "outputs": [
    {
     "name": "stdout",
     "output_type": "stream",
     "text": [
      "[5, 7, 12, 35, 36, 45, 56, 70, 89]\n"
     ]
    }
   ],
   "source": [
    "a = [12, 56, 36, 5, 7, 89, 35, 45, 70]\n",
    "x = sorted(a)\n",
    "print(x)"
   ]
  },
  {
   "cell_type": "markdown",
   "metadata": {},
   "source": [
    "4) Write a program using filter function, filter the even numbers so that\n",
    "only odd numbers are passed to the new list."
   ]
  },
  {
   "cell_type": "code",
   "execution_count": 4,
   "metadata": {},
   "outputs": [
    {
     "name": "stdout",
     "output_type": "stream",
     "text": [
      "[55, 77, 69, 47, 67]\n"
     ]
    }
   ],
   "source": [
    "List = [56, 78, 55, 77, 69, 47, 38, 90, 34, 67]\n",
    "result = filter(lambda x: x % 2,List)\n",
    "print(list(result))"
   ]
  },
  {
   "cell_type": "code",
   "execution_count": null,
   "metadata": {},
   "outputs": [],
   "source": []
  }
 ],
 "metadata": {
  "kernelspec": {
   "display_name": "Python 3",
   "language": "python",
   "name": "python3"
  },
  "language_info": {
   "codemirror_mode": {
    "name": "ipython",
    "version": 3
   },
   "file_extension": ".py",
   "mimetype": "text/x-python",
   "name": "python",
   "nbconvert_exporter": "python",
   "pygments_lexer": "ipython3",
   "version": "3.8.5"
  }
 },
 "nbformat": 4,
 "nbformat_minor": 4
}
