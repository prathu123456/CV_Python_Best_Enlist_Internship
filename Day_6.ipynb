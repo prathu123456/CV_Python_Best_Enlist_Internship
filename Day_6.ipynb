{
 "cells": [
  {
   "cell_type": "markdown",
   "metadata": {},
   "source": [
    "1) Write a Python script to merge two Python dictionaries"
   ]
  },
  {
   "cell_type": "code",
   "execution_count": 1,
   "metadata": {},
   "outputs": [
    {
     "name": "stdout",
     "output_type": "stream",
     "text": [
      "{'a': 'white', 'b': 'green'}\n",
      "{'c': 'red', 'd': 'yellow'}\n",
      "{'a': 'white', 'b': 'green', 'c': 'red', 'd': 'yellow'}\n"
     ]
    }
   ],
   "source": [
    "Dict1 = {\"a\":\"white\",\"b\":\"green\"}\n",
    "Dict2 = {\"c\":\"red\",\"d\":\"yellow\"}\n",
    "print(Dict1)\n",
    "print(Dict2)\n",
    "Dict = Dict1.copy()\n",
    "Dict.update(Dict2)\n",
    "print(Dict)"
   ]
  },
  {
   "cell_type": "markdown",
   "metadata": {},
   "source": [
    "2) Write a Python program to remove a key from a dictionary"
   ]
  },
  {
   "cell_type": "code",
   "execution_count": 2,
   "metadata": {},
   "outputs": [
    {
     "name": "stdout",
     "output_type": "stream",
     "text": [
      "{'p': 11, 'q': 22, 'r': 33, 's': 44}\n",
      "{'p': 11, 'r': 33, 's': 44}\n"
     ]
    }
   ],
   "source": [
    "D1 = {\"p\":11,\"q\":22,\"r\":33,\"s\":44}\n",
    "print(D1)\n",
    "if 'q' in D1:\n",
    "    del D1['q']\n",
    "print(D1)"
   ]
  },
  {
   "cell_type": "markdown",
   "metadata": {},
   "source": [
    "3) Write a Python program to map two lists into a dictionary"
   ]
  },
  {
   "cell_type": "code",
   "execution_count": 3,
   "metadata": {},
   "outputs": [
    {
     "name": "stdout",
     "output_type": "stream",
     "text": [
      "{'a': '1', 'b': '2', 'c': '3'}\n"
     ]
    }
   ],
   "source": [
    "ab = ['a', 'b', 'c']\n",
    "cd = ['1','2', '3']\n",
    "ef = dict(zip(ab, cd))\n",
    "print(ef)"
   ]
  },
  {
   "cell_type": "markdown",
   "metadata": {},
   "source": [
    "4) Write a Python program to find the length of a set"
   ]
  },
  {
   "cell_type": "code",
   "execution_count": 4,
   "metadata": {},
   "outputs": [
    {
     "name": "stdout",
     "output_type": "stream",
     "text": [
      "The length of set is: 5\n"
     ]
    }
   ],
   "source": [
    "a = {1, 2, 3, 4, 5}\n",
    "n = len(a)\n",
    "print(\"The length of set is:\", n)"
   ]
  },
  {
   "cell_type": "markdown",
   "metadata": {},
   "source": [
    "5) Write a Python program to remove the intersection of a 2nd set from the 1st set"
   ]
  },
  {
   "cell_type": "code",
   "execution_count": 5,
   "metadata": {},
   "outputs": [
    {
     "name": "stdout",
     "output_type": "stream",
     "text": [
      "{1, 2, 3, 4, 5}\n",
      "{4, 5, 6, 7, 8}\n",
      "n1 = {1, 2, 3}\n",
      "n2 = {4, 5, 6, 7, 8}\n"
     ]
    }
   ],
   "source": [
    "n1 = {1,2,3,4,5}\n",
    "n2 = {4,5,6,7,8}\n",
    "print(n1)\n",
    "print(n2)\n",
    "n1.difference_update(n2)\n",
    "print(\"n1 =\",n1)\n",
    "print(\"n2 =\",n2)"
   ]
  }
 ],
 "metadata": {
  "kernelspec": {
   "display_name": "Python 3",
   "language": "python",
   "name": "python3"
  },
  "language_info": {
   "codemirror_mode": {
    "name": "ipython",
    "version": 3
   },
   "file_extension": ".py",
   "mimetype": "text/x-python",
   "name": "python",
   "nbconvert_exporter": "python",
   "pygments_lexer": "ipython3",
   "version": "3.8.5"
  }
 },
 "nbformat": 4,
 "nbformat_minor": 4
}
