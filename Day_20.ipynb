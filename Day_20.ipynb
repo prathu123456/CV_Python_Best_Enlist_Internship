{
 "cells": [
  {
   "cell_type": "markdown",
   "metadata": {},
   "source": [
    "Create an Employee Table with employee\n",
    "name,employee ID & Salary"
   ]
  },
  {
   "cell_type": "code",
   "execution_count": 1,
   "metadata": {},
   "outputs": [
    {
     "name": "stdout",
     "output_type": "stream",
     "text": [
      "<mysql.connector.connection.MySQLConnection object at 0x000001AC6211FDC0>\n"
     ]
    }
   ],
   "source": [
    "import mysql.connector\n",
    "\n",
    "mydb = mysql.connector.connect(\n",
    "  host=\"localhost\",\n",
    " user=\"root\",\n",
    "  password=\"Prathu@123\",\n",
    ")\n",
    "\n",
    "mycursor = mydb.cursor()\n",
    "print(mydb)"
   ]
  },
  {
   "cell_type": "code",
   "execution_count": 3,
   "metadata": {},
   "outputs": [],
   "source": [
    "dbse = mydb.cursor()\n",
    "\n",
    "dbse.execute(\"CREATE DATABASE Employee_Mangement_System\")"
   ]
  },
  {
   "cell_type": "code",
   "execution_count": 5,
   "metadata": {},
   "outputs": [],
   "source": [
    "mydb = mysql.connector.connect(\n",
    "  host=\"localhost\",\n",
    " user=\"root\",\n",
    "  password=\"Prathu@123\",\n",
    "  database=\"Employee_Mangement_System\"\n",
    ")\n",
    "dbse = mydb.cursor()\n",
    "\n",
    "dbse.execute(\"CREATE TABLE Employee (EMP_ID INT , EMP_NAME VARCHAR(255),EMP_SALARY INT )\")"
   ]
  },
  {
   "cell_type": "code",
   "execution_count": 3,
   "metadata": {},
   "outputs": [
    {
     "name": "stdout",
     "output_type": "stream",
     "text": [
      "15 was inserted.\n"
     ]
    }
   ],
   "source": [
    "import mysql.connector\n",
    "mydb = mysql.connector.connect(\n",
    "  host=\"localhost\",\n",
    " user=\"root\",\n",
    "  password=\"Prathu@123\",\n",
    "  database=\"Employee_Mangement_System\"\n",
    ")\n",
    "dbse = mydb.cursor()\n",
    "\n",
    "sql = \"INSERT INTO employee (emp_id , EMP_NAME , EMP_SALARY) VALUES (%s,%s,%s)\"\n",
    "val = [\n",
    "  ('1','SAROJ','10000.0'),\n",
    "    ('2','ANUSHKA','16000.0'),\n",
    "    ('3','PRIYANKA','77000.0'),\n",
    "    ('4','VAIBHAV','81000.0'),\n",
    "    ('5','ANAND','88000.0'),\n",
    "    ('6','KHUSHBU','54000.0'),\n",
    "    ('7','KIRAN','56000.0'),\n",
    "    ('8','AMAN','47000.0'),\n",
    "    ('9','MAYUR','26000.0'),\n",
    "    ('10','ROHIT','15000.0'),\n",
    "    ('11','LAKSHMAN','50000.0'),\n",
    "    ('12','PRIT','40000.0'),\n",
    "    ('13','MADHURI','25000.0'),\n",
    "    ('14','POONAM','26000.0'),\n",
    "    ('15','AKANSHA','100000.0')\n",
    "       \n",
    "]\n",
    "\n",
    "dbse.executemany(sql, val)\n",
    "\n",
    "mydb.commit()\n",
    "\n",
    "print(dbse.rowcount, \"was inserted.\")"
   ]
  },
  {
   "cell_type": "markdown",
   "metadata": {},
   "source": [
    "a) Write a query to get the maximum and minimum salary from employees table"
   ]
  },
  {
   "cell_type": "code",
   "execution_count": 14,
   "metadata": {},
   "outputs": [
    {
     "name": "stdout",
     "output_type": "stream",
     "text": [
      "('SAROJ', 10000)\n"
     ]
    }
   ],
   "source": [
    "import mysql.connector\n",
    "mydb = mysql.connector.connect(\n",
    "    host=\"localhost\",\n",
    "    user=\"root\",\n",
    "    password=\"Prathu@123\",\n",
    "    database=\"Employee_Mangement_System\"\n",
    ")\n",
    "db = mydb.cursor()\n",
    "sql = \"SELECT emp_name, emp_salary FROM employee WHERE emp_salary = (SELECT MIN(emp_salary) FROM employee)\"\n",
    "db.execute(sql)  \n",
    "result = db.fetchall()\n",
    "  \n",
    "for x in result:\n",
    "    print(x)"
   ]
  },
  {
   "cell_type": "code",
   "execution_count": 15,
   "metadata": {},
   "outputs": [
    {
     "name": "stdout",
     "output_type": "stream",
     "text": [
      "('AKANSHA', 100000)\n"
     ]
    }
   ],
   "source": [
    "import mysql.connector\n",
    "mydb = mysql.connector.connect(\n",
    "    host=\"localhost\",\n",
    "    user=\"root\",\n",
    "    password=\"Prathu@123\",\n",
    "    database=\"Employee_Mangement_System\"\n",
    ")\n",
    "db = mydb.cursor()\n",
    "sql = \"SELECT emp_name, emp_salary FROM employee WHERE emp_salary = (SELECT MAX(emp_salary) FROM employee)\"\n",
    "db.execute(sql)  \n",
    "result = db.fetchall()\n",
    "  \n",
    "for x in result:\n",
    "    print(x)"
   ]
  },
  {
   "cell_type": "markdown",
   "metadata": {},
   "source": [
    "b) Write a query to get the number of employees working with the company"
   ]
  },
  {
   "cell_type": "code",
   "execution_count": 17,
   "metadata": {},
   "outputs": [
    {
     "name": "stdout",
     "output_type": "stream",
     "text": [
      "(15,)\n"
     ]
    }
   ],
   "source": [
    "import mysql.connector\n",
    "mydb = mysql.connector.connect(\n",
    "    host=\"localhost\",\n",
    "    user=\"root\",\n",
    "    password=\"Prathu@123\",\n",
    "    database=\"Employee_Mangement_System\"\n",
    ")\n",
    "db = mydb.cursor()\n",
    "sql = \"SELECT COUNT(*) FROM employee\"\n",
    "db.execute(sql)  \n",
    "result = db.fetchall()\n",
    "  \n",
    "for x in result:\n",
    "    print(x)"
   ]
  },
  {
   "cell_type": "markdown",
   "metadata": {},
   "source": [
    "c) Write a query to get the first 3 characters of first name from employees table"
   ]
  },
  {
   "cell_type": "code",
   "execution_count": 18,
   "metadata": {},
   "outputs": [
    {
     "name": "stdout",
     "output_type": "stream",
     "text": [
      "('SAR',)\n",
      "('ANU',)\n",
      "('PRI',)\n",
      "('VAI',)\n",
      "('ANA',)\n",
      "('KHU',)\n",
      "('KIR',)\n",
      "('AMA',)\n",
      "('MAY',)\n",
      "('ROH',)\n",
      "('LAK',)\n",
      "('PRI',)\n",
      "('MAD',)\n",
      "('POO',)\n",
      "('AKA',)\n"
     ]
    }
   ],
   "source": [
    "import mysql.connector\n",
    "mydb = mysql.connector.connect(\n",
    "    host=\"localhost\",\n",
    "    user=\"root\",\n",
    "    password=\"Prathu@123\",\n",
    "    database=\"Employee_Mangement_System\"\n",
    ")\n",
    "db = mydb.cursor()\n",
    "sql = \"SELECT SUBSTRING(emp_name, 1, 3) FROM employee\"\n",
    "db.execute(sql)  \n",
    "result = db.fetchall()\n",
    "  \n",
    "for x in result:\n",
    "    print(x)"
   ]
  },
  {
   "cell_type": "code",
   "execution_count": null,
   "metadata": {},
   "outputs": [],
   "source": []
  }
 ],
 "metadata": {
  "kernelspec": {
   "display_name": "Python 3",
   "language": "python",
   "name": "python3"
  },
  "language_info": {
   "codemirror_mode": {
    "name": "ipython",
    "version": 3
   },
   "file_extension": ".py",
   "mimetype": "text/x-python",
   "name": "python",
   "nbconvert_exporter": "python",
   "pygments_lexer": "ipython3",
   "version": "3.8.5"
  }
 },
 "nbformat": 4,
 "nbformat_minor": 4
}
