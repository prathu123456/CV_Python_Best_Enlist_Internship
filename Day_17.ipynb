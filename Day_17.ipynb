{
 "cells": [
  {
   "cell_type": "markdown",
   "metadata": {},
   "source": [
    "1) Create a connection for DB and print the version using a python program."
   ]
  },
  {
   "cell_type": "code",
   "execution_count": 1,
   "metadata": {},
   "outputs": [
    {
     "name": "stdout",
     "output_type": "stream",
     "text": [
      "Database version : 8.0.25 \n"
     ]
    }
   ],
   "source": [
    "import mysql.connector\n",
    "mydb = mysql.connector.connect(\n",
    "    host=\"localhost\",\n",
    "    user=\"root\",\n",
    "    password=\"Prathu@123\",\n",
    "    database=\"mydatabase\"\n",
    ")\n",
    "cursor = mydb.cursor()\n",
    "cursor.execute(\"SELECT VERSION()\")\n",
    "data = cursor.fetchone()\n",
    "print (\"Database version : %s \" % data)"
   ]
  },
  {
   "cell_type": "markdown",
   "metadata": {},
   "source": [
    "2) Create a multiple tables & insert data in table."
   ]
  },
  {
   "cell_type": "code",
   "execution_count": 3,
   "metadata": {},
   "outputs": [],
   "source": [
    "import mysql.connector\n",
    "mydb = mysql.connector.connect(\n",
    "    host=\"localhost\",\n",
    "    user=\"root\",\n",
    "    password=\"Prathu@123\",\n",
    "    database=\"mydatabase\"\n",
    ")\n",
    "db = mydb.cursor()\n",
    "db.execute(\"CREATE TABLE customers (Customer_id INT, Order_number INT)\")"
   ]
  },
  {
   "cell_type": "code",
   "execution_count": 7,
   "metadata": {},
   "outputs": [
    {
     "name": "stdout",
     "output_type": "stream",
     "text": [
      "1 record inserted.\n"
     ]
    }
   ],
   "source": [
    "import mysql.connector\n",
    "mydb = mysql.connector.connect(\n",
    "    host=\"localhost\",\n",
    "    user=\"root\",\n",
    "    password=\"Prathu@123\",\n",
    "    database=\"mydatabase\"\n",
    ")\n",
    "db = mydb.cursor()\n",
    "sql = \"INSERT INTO customers (Customer_id, Order_number) VALUES (%s,%s)\" \n",
    "val = (\"100\",\"40685\")\n",
    "db.execute(sql, val)\n",
    "mydb.commit() \n",
    "print(db.rowcount, \"record inserted.\")"
   ]
  },
  {
   "cell_type": "code",
   "execution_count": 8,
   "metadata": {},
   "outputs": [
    {
     "name": "stdout",
     "output_type": "stream",
     "text": [
      "1 record inserted.\n"
     ]
    }
   ],
   "source": [
    "db = mydb.cursor()\n",
    "sql = \"INSERT INTO customers (Customer_id, Order_number) VALUES (%s, %s)\"\n",
    "val = (\"145\",\"44585\")\n",
    "db.execute(sql, val)\n",
    "mydb.commit() \n",
    "print(db.rowcount, \"record inserted.\")"
   ]
  },
  {
   "cell_type": "markdown",
   "metadata": {},
   "source": [
    "3) Create a employee table and read all the employee name in the table using for loop."
   ]
  },
  {
   "cell_type": "code",
   "execution_count": 2,
   "metadata": {},
   "outputs": [
    {
     "name": "stdout",
     "output_type": "stream",
     "text": [
      "4 record inserted.\n"
     ]
    }
   ],
   "source": [
    "import mysql.connector\n",
    "mydb = mysql.connector.connect(\n",
    "    host=\"localhost\", \n",
    "    user=\"root\",\n",
    "    password=\"Prathu@123\",\n",
    "    database=\"mydatabase\"\n",
    ")\n",
    "dbse = mydb.cursor()\n",
    "dbse.execute(\"CREATE TABLE employee (Employee_name VARCHAR(255), Employee_address VARCHAR(255))\")\n",
    "my = mydb.cursor()\n",
    "sql = \"INSERT INTO employee (Employee_name, Employee_address) VALUES (%s,%s)\" \n",
    "val =[ (\"Thomas\", \"Mumbai\"),\n",
    "      (\"John\", \"Delhi\"),\n",
    "      (\"Mohit\", \"Mumbai\"),\n",
    "      (\"Rohit\",\"Nagpur\")\n",
    "     ]\n",
    "my.executemany(sql, val)\n",
    "mydb.commit() \n",
    "print(my.rowcount, \"record inserted.\")"
   ]
  },
  {
   "cell_type": "code",
   "execution_count": 3,
   "metadata": {},
   "outputs": [
    {
     "name": "stdout",
     "output_type": "stream",
     "text": [
      "('Thomas',)\n",
      "('John',)\n",
      "('Mohit',)\n",
      "('Rohit',)\n"
     ]
    }
   ],
   "source": [
    "db = mydb.cursor()\n",
    "db.execute(\"SELECT employee_name FROM employee\")\n",
    "myresult = db.fetchall()\n",
    "for x in myresult:\n",
    "    print(x)"
   ]
  },
  {
   "cell_type": "code",
   "execution_count": null,
   "metadata": {},
   "outputs": [],
   "source": []
  }
 ],
 "metadata": {
  "kernelspec": {
   "display_name": "Python 3",
   "language": "python",
   "name": "python3"
  },
  "language_info": {
   "codemirror_mode": {
    "name": "ipython",
    "version": 3
   },
   "file_extension": ".py",
   "mimetype": "text/x-python",
   "name": "python",
   "nbconvert_exporter": "python",
   "pygments_lexer": "ipython3",
   "version": "3.8.5"
  }
 },
 "nbformat": 4,
 "nbformat_minor": 4
}
