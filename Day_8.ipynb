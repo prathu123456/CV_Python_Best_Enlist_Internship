{
 "cells": [
  {
   "cell_type": "markdown",
   "metadata": {},
   "source": [
    "# Day 8\n"
   ]
  },
  {
   "cell_type": "markdown",
   "metadata": {},
   "source": [
    "### 1)Write a Python script to merge two Python dictionaries"
   ]
  },
  {
   "cell_type": "code",
   "execution_count": 1,
   "metadata": {},
   "outputs": [
    {
     "name": "stdout",
     "output_type": "stream",
     "text": [
      "Dict 1= {'a': 100, 'b': 200}\n",
      "Dict 2= {'x': 300, 'y': 200}\n",
      "{'a': 100, 'b': 200, 'x': 300, 'y': 200}\n"
     ]
    }
   ],
   "source": [
    "d1 = {'a': 100, 'b': 200}\n",
    "d2 = {'x': 300, 'y': 200}\n",
    "print(\"Dict 1=\",d1)\n",
    "print(\"Dict 2=\",d2)\n",
    "d = d1.copy()\n",
    "d.update(d2)\n",
    "print(d)"
   ]
  },
  {
   "cell_type": "markdown",
   "metadata": {},
   "source": [
    "### 2)Write a program to sort the value from descending to ascending in list and convert it in to a set."
   ]
  },
  {
   "cell_type": "code",
   "execution_count": 2,
   "metadata": {},
   "outputs": [
    {
     "name": "stdout",
     "output_type": "stream",
     "text": [
      "List = [1, 3, 4, 2]\n",
      "List in descending order = [4, 3, 2, 1]\n"
     ]
    }
   ],
   "source": [
    "#Sorting the value from descending to ascending in list.\n",
    "numbers = [1, 3, 4, 2]\n",
    "print(\"List =\",numbers)\n",
    "numbers.sort(reverse = True)\n",
    "print(\"List in descending order =\",numbers)\n"
   ]
  },
  {
   "cell_type": "code",
   "execution_count": 3,
   "metadata": {},
   "outputs": [
    {
     "name": "stdout",
     "output_type": "stream",
     "text": [
      "Set = {1, 2, 3, 4}\n"
     ]
    }
   ],
   "source": [
    "#list into set\n",
    "Newset = set(numbers)\n",
    "print(\"Set =\",Newset)"
   ]
  },
  {
   "cell_type": "markdown",
   "metadata": {},
   "source": [
    "### 3)Write a Python program to list number of items in a dictionary key and sort the list with the help of a function & without the function."
   ]
  },
  {
   "cell_type": "code",
   "execution_count": 4,
   "metadata": {},
   "outputs": [
    {
     "name": "stdout",
     "output_type": "stream",
     "text": [
      "Dictionary = {'Raj': [12, 13, 31, 16], 'Rema': [12, 77, 54, 43], 'Shrav': [34, 87, 28, 98], 'Anuja': [33, 66, 55, 44]}\n",
      "Anuja : 4\n",
      "Raj : 4\n",
      "Rema : 4\n",
      "Shrav : 4\n"
     ]
    }
   ],
   "source": [
    "#to list number of items in a dictionary key \n",
    "dict1={'Raj':[12,13,31,16],'Rema':[12,77,54,43],'Shrav':[34,87,28,98],'Anuja':[33,66,55,44]}\n",
    "print(\"Dictionary =\",dict1)\n",
    "\n",
    "for key, value in sorted(dict1.items()):\n",
    "    print(key,\":\", len(value)) \n",
    "    "
   ]
  },
  {
   "cell_type": "code",
   "execution_count": 5,
   "metadata": {},
   "outputs": [
    {
     "data": {
      "text/plain": [
       "{'Anuja': [33, 44, 55, 66],\n",
       " 'Raj': [12, 13, 16, 31],\n",
       " 'Rema': [12, 43, 54, 77],\n",
       " 'Shrav': [28, 34, 87, 98]}"
      ]
     },
     "execution_count": 5,
     "metadata": {},
     "output_type": "execute_result"
    }
   ],
   "source": [
    "#Sorting the list with the help of a function.\n",
    "def function1(dict1):\n",
    "    res = dict()\n",
    "    for key in sorted(dict1):\n",
    "        res[key] = sorted(dict1[key])\n",
    "    return res\n",
    "function1(dict1)"
   ]
  },
  {
   "cell_type": "code",
   "execution_count": 6,
   "metadata": {},
   "outputs": [
    {
     "data": {
      "text/plain": [
       "{'Anuja': [33, 44, 55, 66],\n",
       " 'Raj': [12, 13, 16, 31],\n",
       " 'Rema': [12, 43, 54, 77],\n",
       " 'Shrav': [28, 34, 87, 98]}"
      ]
     },
     "execution_count": 6,
     "metadata": {},
     "output_type": "execute_result"
    }
   ],
   "source": [
    "#Sorting the list without the function.\n",
    "\n",
    "def function2(dict1):\n",
    "    res=dict()\n",
    "    min1=dict1[key]\n",
    "    for key in sorted(dict1):\n",
    "        if dict1[key]<min1:\n",
    "            min1=dict1[key]\n",
    "            res[key]=min1\n",
    "    return res\n",
    "function1(dict1)"
   ]
  },
  {
   "cell_type": "markdown",
   "metadata": {},
   "source": [
    "### 4)Write a Python program to get a string from a given string (user input) and change the first occurrence of the word to a user specified input."
   ]
  },
  {
   "cell_type": "code",
   "execution_count": 7,
   "metadata": {},
   "outputs": [
    {
     "name": "stdout",
     "output_type": "stream",
     "text": [
      "Enter a string =hat\n",
      "String = hat\n",
      "Enter the letter you want to replace =r\n",
      "New string = rat\n"
     ]
    }
   ],
   "source": [
    "str1 = str(input(\"Enter a string =\")) \n",
    "print(\"String =\",str1)\n",
    "let = str(input(\"Enter the letter you want to replace =\"))\n",
    "\n",
    "newstring = str1.replace(str1[0],let,1)\n",
    "print(\"New string =\",newstring)"
   ]
  },
  {
   "cell_type": "markdown",
   "metadata": {},
   "source": [
    "### 5)Write a Python program to get a string from a given string where all occurrences of its first char have been changed to capital letter."
   ]
  },
  {
   "cell_type": "code",
   "execution_count": 8,
   "metadata": {},
   "outputs": [
    {
     "name": "stdout",
     "output_type": "stream",
     "text": [
      "Enter a string =yet\n",
      "String = yet\n",
      "Yet\n"
     ]
    }
   ],
   "source": [
    "str2 = str(input(\"Enter a string =\")) \n",
    "print(\"String =\",str2)\n",
    "print(str2.capitalize())"
   ]
  },
  {
   "cell_type": "markdown",
   "metadata": {},
   "source": [
    "### 6)Write a Python program to find the repeated items of a list"
   ]
  },
  {
   "cell_type": "code",
   "execution_count": 9,
   "metadata": {},
   "outputs": [
    {
     "name": "stdout",
     "output_type": "stream",
     "text": [
      "Duplicate elements in given array: \n",
      "2\n",
      "3\n",
      "8\n"
     ]
    }
   ],
   "source": [
    "arr = [1, 2, 3, 4, 2, 7, 8, 8, 3];     \n",
    "     \n",
    "print(\"Duplicate elements in given array: \");    \n",
    "#Searches for duplicate element    \n",
    "for i in range(0, len(arr)):    \n",
    "    for j in range(i+1, len(arr)):    \n",
    "        if(arr[i] == arr[j]):    \n",
    "            print(arr[j]);  "
   ]
  },
  {
   "cell_type": "markdown",
   "metadata": {},
   "source": [
    "### 7)Write a Python program to check the sum of three elements and divided by a value which is given as an input by the user"
   ]
  },
  {
   "cell_type": "code",
   "execution_count": 10,
   "metadata": {},
   "outputs": [
    {
     "name": "stdout",
     "output_type": "stream",
     "text": [
      "Enter number :5\n",
      "Enter number :6\n",
      "Enter number :7\n",
      "Sum of 5 , 6 , 7 is = 18\n",
      "Enter the number to divide with the sum = 6\n",
      "The given input divide\n"
     ]
    }
   ],
   "source": [
    "a=int(input(\"Enter number :\"))\n",
    "b=int(input(\"Enter number :\"))\n",
    "c=int(input(\"Enter number :\"))\n",
    "sum1=a+b+c\n",
    "print(\"Sum of\",a,\",\",b,\",\",c,\"is =\",sum1)\n",
    "x=int(input(\"Enter the number to divide with the sum = \"))\n",
    "if sum1% x==0:\n",
    "    print(\"The given input divide\")\n",
    "else :\n",
    "    print(\"The given input does not divide\")"
   ]
  },
  {
   "cell_type": "markdown",
   "metadata": {},
   "source": [
    "### 8)Write a Python program to find the Mean,median,mode among three given numbers"
   ]
  },
  {
   "cell_type": "code",
   "execution_count": 11,
   "metadata": {},
   "outputs": [
    {
     "name": "stdout",
     "output_type": "stream",
     "text": [
      "addition 18\n",
      "mean : 6.0\n",
      "median is: 6\n",
      "mode is : 4\n"
     ]
    }
   ],
   "source": [
    "given_numbers = [8,6,4]\n",
    "addition = 0\n",
    "for i in given_numbers:\n",
    "    addition = addition +i\n",
    "print(\"addition\",addition)\n",
    "length = len(given_numbers)\n",
    "mean = addition/length\n",
    "print(\"mean :\",mean)\n",
    "\n",
    "given_numbers.sort()\n",
    "if length%2==0:\n",
    "    median1 = given_numbers[length//2]\n",
    "    median2=given_numbers[length//2-1]\n",
    "    median = (median1+median2)/2\n",
    "else:\n",
    "    median = given_numbers[length//2]\n",
    "print(\"median is:\",median)\n",
    "import statistics\n",
    "mode1=statistics.mode(given_numbers)\n",
    "print(\"mode is :\",mode1)"
   ]
  },
  {
   "cell_type": "markdown",
   "metadata": {},
   "source": [
    "### 9)Write a Python program to swap cases of a given string"
   ]
  },
  {
   "cell_type": "code",
   "execution_count": 12,
   "metadata": {},
   "outputs": [
    {
     "name": "stdout",
     "output_type": "stream",
     "text": [
      "the TREE IS tOO tall\n"
     ]
    }
   ],
   "source": [
    "string = \"THE tree is Too TALL\"\n",
    "print(string.swapcase())   \n",
    "  \n",
    " "
   ]
  },
  {
   "cell_type": "markdown",
   "metadata": {},
   "source": [
    "### 10)Write a program to convert an integer to binary & octa decimal"
   ]
  },
  {
   "cell_type": "code",
   "execution_count": 15,
   "metadata": {},
   "outputs": [
    {
     "name": "stdout",
     "output_type": "stream",
     "text": [
      "Enter an integer: 54\n",
      "The entered value is: 54\n",
      "0b110110 in binary.\n",
      "0o66 in octal.\n"
     ]
    }
   ],
   "source": [
    "num = int(input(\"Enter an integer: \"))\n",
    "print(\"The entered value is:\",num)\n",
    "print(bin(num),\"in binary.\")\n",
    "print(oct(num),\"in octal.\")"
   ]
  },
  {
   "cell_type": "code",
   "execution_count": null,
   "metadata": {},
   "outputs": [],
   "source": []
  }
 ],
 "metadata": {
  "kernelspec": {
   "display_name": "Python 3",
   "language": "python",
   "name": "python3"
  },
  "language_info": {
   "codemirror_mode": {
    "name": "ipython",
    "version": 3
   },
   "file_extension": ".py",
   "mimetype": "text/x-python",
   "name": "python",
   "nbconvert_exporter": "python",
   "pygments_lexer": "ipython3",
   "version": "3.8.5"
  }
 },
 "nbformat": 4,
 "nbformat_minor": 4
}
