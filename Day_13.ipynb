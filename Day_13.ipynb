{
 "cells": [
  {
   "cell_type": "markdown",
   "metadata": {},
   "source": [
    "1) Write a Python program for all the cases which can check a string contains only a certain set of characters (in this case a-z, A-Z and 0-9)."
   ]
  },
  {
   "cell_type": "code",
   "execution_count": 1,
   "metadata": {},
   "outputs": [
    {
     "name": "stdout",
     "output_type": "stream",
     "text": [
      "True\n",
      "False\n"
     ]
    }
   ],
   "source": [
    "import re\n",
    "def a(string):\n",
    "    charRe = re.compile(r'[^a-zA-Z0-9.]')\n",
    "    string = charRe.search(string)\n",
    "    return not bool(string)\n",
    "print(a(\"ABCDEFabcdef123450\")) \n",
    "print(a(\"*&%@#!}{\"))"
   ]
  },
  {
   "cell_type": "markdown",
   "metadata": {},
   "source": [
    "2) Write a Python program that matches a word containing 'ab'."
   ]
  },
  {
   "cell_type": "code",
   "execution_count": 2,
   "metadata": {},
   "outputs": [
    {
     "name": "stdout",
     "output_type": "stream",
     "text": [
      "Not matched!\n",
      "Found a match!\n"
     ]
    }
   ],
   "source": [
    "import re\n",
    "def match(text):\n",
    "        patterns = '\\w*ab.\\w*'\n",
    "        if re.search(patterns,  text):\n",
    "                return ('Found a match!')\n",
    "        else:\n",
    "                return('Not matched!')\n",
    "print(match(\"The quick brown fox jumps over the lazy dog.\"))\n",
    "print(match(\"Python exercises about to begin.\"))"
   ]
  },
  {
   "cell_type": "markdown",
   "metadata": {},
   "source": [
    "3) Write a Python program to check for a number at the end of a word/sentence."
   ]
  },
  {
   "cell_type": "code",
   "execution_count": 3,
   "metadata": {},
   "outputs": [
    {
     "name": "stdout",
     "output_type": "stream",
     "text": [
      "False\n",
      "True\n"
     ]
    }
   ],
   "source": [
    "import re\n",
    "def b(string):\n",
    "    text = re.compile(r\".*[0-9]$\")\n",
    "    if text.match(string):\n",
    "        return (True)\n",
    "    else:\n",
    "        return (False)\n",
    "print(b('Python'))\n",
    "print(b('Python3'))"
   ]
  },
  {
   "cell_type": "markdown",
   "metadata": {},
   "source": [
    "4) Write a Python program to search the numbers (0-9) of length between 1 to 3 in a given string"
   ]
  },
  {
   "cell_type": "code",
   "execution_count": 4,
   "metadata": {},
   "outputs": [
    {
     "name": "stdout",
     "output_type": "stream",
     "text": [
      "Number of length 1 to 3\n",
      "1\n",
      "5\n",
      "8\n",
      "23\n",
      "345\n"
     ]
    }
   ],
   "source": [
    "import re\n",
    "results = re.finditer(r\"([0-9]{1,3})\", \"Do the Mathematics worksheet questions 1, 5, 8, 23, 345, as homework.\")\n",
    "print(\"Number of length 1 to 3\")\n",
    "for n in results:\n",
    "     print(n.group(0))"
   ]
  },
  {
   "cell_type": "markdown",
   "metadata": {},
   "source": [
    "5) Write a Python program to match a string that contains only uppercase letters"
   ]
  },
  {
   "cell_type": "code",
   "execution_count": 5,
   "metadata": {},
   "outputs": [
    {
     "name": "stdout",
     "output_type": "stream",
     "text": [
      "Found a match\n",
      "Not matched\n"
     ]
    }
   ],
   "source": [
    "import re \n",
    "def d(text):\n",
    "    pattern = '^[A-Z]*$'\n",
    "    if re.search(pattern,text):\n",
    "        print(\"Found a match\")\n",
    "    else:\n",
    "        print(\"Not matched\")\n",
    "d(\"INTEGER\")\n",
    "d(\"integer\")"
   ]
  },
  {
   "cell_type": "code",
   "execution_count": null,
   "metadata": {},
   "outputs": [],
   "source": []
  }
 ],
 "metadata": {
  "kernelspec": {
   "display_name": "Python 3",
   "language": "python",
   "name": "python3"
  },
  "language_info": {
   "codemirror_mode": {
    "name": "ipython",
    "version": 3
   },
   "file_extension": ".py",
   "mimetype": "text/x-python",
   "name": "python",
   "nbconvert_exporter": "python",
   "pygments_lexer": "ipython3",
   "version": "3.8.5"
  }
 },
 "nbformat": 4,
 "nbformat_minor": 4
}
