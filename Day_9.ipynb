{
 "cells": [
  {
   "cell_type": "markdown",
   "metadata": {},
   "source": [
    "# Day 9"
   ]
  },
  {
   "cell_type": "markdown",
   "metadata": {},
   "source": [
    "### 1)Write a program to loop through a list of numbers and add +2 to every value to elements in list."
   ]
  },
  {
   "cell_type": "code",
   "execution_count": 1,
   "metadata": {},
   "outputs": [
    {
     "name": "stdout",
     "output_type": "stream",
     "text": [
      "5\n",
      "8\n",
      "6\n",
      "7\n",
      "11\n",
      "4\n",
      "7\n"
     ]
    }
   ],
   "source": [
    "a=[3,6,4,5,9,2,5]\n",
    "for i in a:\n",
    "    print(i+2)"
   ]
  },
  {
   "cell_type": "markdown",
   "metadata": {},
   "source": [
    "### 3) Write a program to get the below pattern 54321 4321 321 21 1\n"
   ]
  },
  {
   "cell_type": "code",
   "execution_count": 2,
   "metadata": {},
   "outputs": [
    {
     "name": "stdout",
     "output_type": "stream",
     "text": [
      "54321\n",
      "4321\n",
      "321\n",
      "21\n",
      "1\n"
     ]
    }
   ],
   "source": [
    "for i in range(5,0,-1):\n",
    "    for j in range(i,0,-1):\n",
    "        print(j,end=\"\")\n",
    "    print()"
   ]
  },
  {
   "cell_type": "markdown",
   "metadata": {},
   "source": [
    "### 4) Python Program to Print the Fibonacci sequence"
   ]
  },
  {
   "cell_type": "code",
   "execution_count": 3,
   "metadata": {},
   "outputs": [
    {
     "name": "stdout",
     "output_type": "stream",
     "text": [
      "How many terms? 7\n",
      "Fibonacci sequence:\n",
      "0\n",
      "1\n",
      "1\n",
      "2\n",
      "3\n",
      "5\n",
      "8\n"
     ]
    }
   ],
   "source": [
    "nterms=int(input(\"How many terms? \"))\n",
    "n1,n2=0,1\n",
    "count=0\n",
    "if nterms <=0:\n",
    "    print(\"Please enter a positive integer :\")\n",
    "elif nterms==1:\n",
    "    print(\"Fibonacci sequence upto\",nterms,\":\")\n",
    "    print(n1)\n",
    "else:\n",
    "    print(\"Fibonacci sequence:\")\n",
    "    while count < nterms:\n",
    "        print(n1)\n",
    "        nth = n1 + n2\n",
    "        n1 = n2\n",
    "        n2 = nth\n",
    "        count += 1"
   ]
  },
  {
   "cell_type": "markdown",
   "metadata": {},
   "source": [
    "### 5) Explain Armstrong number and write a code with a function"
   ]
  },
  {
   "cell_type": "code",
   "execution_count": 4,
   "metadata": {},
   "outputs": [
    {
     "name": "stdout",
     "output_type": "stream",
     "text": [
      "Enter a number: 45\n",
      "45 is not an Armstrong number\n"
     ]
    }
   ],
   "source": [
    "num = int(input(\"Enter a number: \"))\n",
    "sum = 0\n",
    "temp = num\n",
    "while temp > 0:\n",
    "    digit = temp % 10\n",
    "    sum += digit ** 3\n",
    "    temp //= 10\n",
    "if num == sum:\n",
    "    print(num,\"is an Armstrong number\")\n",
    "else:\n",
    "    print(num,\"is not an Armstrong number\")"
   ]
  },
  {
   "cell_type": "markdown",
   "metadata": {},
   "source": [
    "### 6) Write a program to print the multiplication table of 9"
   ]
  },
  {
   "cell_type": "code",
   "execution_count": 5,
   "metadata": {},
   "outputs": [
    {
     "name": "stdout",
     "output_type": "stream",
     "text": [
      "9 x 1 = 9\n",
      "9 x 2 = 18\n",
      "9 x 3 = 27\n",
      "9 x 4 = 36\n",
      "9 x 5 = 45\n",
      "9 x 6 = 54\n",
      "9 x 7 = 63\n",
      "9 x 8 = 72\n",
      "9 x 9 = 81\n",
      "9 x 10 = 90\n"
     ]
    }
   ],
   "source": [
    "num = 9\n",
    "for i in range (1,11):\n",
    "    print(num,\"x\",i,\"=\",num*i)"
   ]
  },
  {
   "cell_type": "markdown",
   "metadata": {},
   "source": [
    "### 7) Check if a program is negative or positive"
   ]
  },
  {
   "cell_type": "code",
   "execution_count": 6,
   "metadata": {},
   "outputs": [
    {
     "name": "stdout",
     "output_type": "stream",
     "text": [
      "Enter a number:65\n",
      "65.0 is positive number\n"
     ]
    }
   ],
   "source": [
    "num = float(input(\"Enter a number:\"))\n",
    "if num > 0:\n",
    "    print(num,\"is positive number\")\n",
    "elif num == 0:\n",
    "    print(num,\"zero\")\n",
    "else:\n",
    "    print(num,\"is a negative number\")"
   ]
  },
  {
   "cell_type": "markdown",
   "metadata": {},
   "source": [
    "### 8) Write a program to convert the number of days to ages"
   ]
  },
  {
   "cell_type": "code",
   "execution_count": 7,
   "metadata": {},
   "outputs": [
    {
     "name": "stdout",
     "output_type": "stream",
     "text": [
      "Number of Days: 876\n",
      "Age is: 2.4\n"
     ]
    }
   ],
   "source": [
    "days = int(input(\"Number of Days: \"))\n",
    "age = days/365\n",
    "print(\"Age is:\",age)"
   ]
  },
  {
   "cell_type": "markdown",
   "metadata": {},
   "source": [
    "### 9) Solve Trigonometry problem using math function write a program to solve using math function"
   ]
  },
  {
   "cell_type": "code",
   "execution_count": 8,
   "metadata": {},
   "outputs": [
    {
     "name": "stdout",
     "output_type": "stream",
     "text": [
      "Sin of pi/6 is: 0.49999999999999994\n",
      "Cos of pi/6 is: 0.8660254037844387\n",
      "Tan of pi/6 is: 0.5773502691896257\n"
     ]
    }
   ],
   "source": [
    "import math \n",
    "a = math.pi/6\n",
    "print(\"Sin of pi/6 is:\",math.sin(a))\n",
    "print(\"Cos of pi/6 is:\",math.cos(a))\n",
    "print(\"Tan of pi/6 is:\",math.tan(a))"
   ]
  },
  {
   "cell_type": "markdown",
   "metadata": {},
   "source": [
    "### 10) Create a calculator only on a code level by using if condition (Basic arithmetic calculation)"
   ]
  },
  {
   "cell_type": "code",
   "execution_count": 9,
   "metadata": {},
   "outputs": [
    {
     "name": "stdout",
     "output_type": "stream",
     "text": [
      "CALCULATOR\n",
      "Please select operator -\n",
      "1.Addition\n",
      "2.Subtraction\n",
      "3.Multiplication\n",
      "4.Division\n",
      "\n",
      "Select the operator 1, 2, 3, 4:1\n",
      "Enter first number:5\n",
      "Enter second number:7\n",
      "5 + 7 = 12\n"
     ]
    }
   ],
   "source": [
    "print(\"CALCULATOR\")\n",
    "def add(num1,num2):\n",
    "    return num1 + num2\n",
    "def sub(num1,mun2):\n",
    "    return num1 - num2\n",
    "def mul(num1,num2):\n",
    "    return num1 * num2\n",
    "def div(num1,num2):\n",
    "    return num1 / num2\n",
    "print(\"Please select operator -\\n\"\\\n",
    "         \"1.Addition\\n\"\\\n",
    "         \"2.Subtraction\\n\"\\\n",
    "         \"3.Multiplication\\n\"\\\n",
    "         \"4.Division\\n\")\n",
    "A = int(input(\"Select the operator 1, 2, 3, 4:\"))\n",
    "a = int(input(\"Enter first number:\"))\n",
    "b = int(input(\"Enter second number:\"))\n",
    "if A==1:\n",
    "    print(a, \"+\", b, \"=\", add(a,b))\n",
    "elif A==2:\n",
    "    print(a, \"-\", b, \"=\", sub(a,b))\n",
    "elif A==3:\n",
    "    print(a, \"*\", b, \"=\", mul(a,b))\n",
    "elif A==4:\n",
    "    print(a, \"/\", b, \"=\", div(a,b))\n",
    "else:\n",
    "    print(\"INVALID\")"
   ]
  }
 ],
 "metadata": {
  "kernelspec": {
   "display_name": "Python 3",
   "language": "python",
   "name": "python3"
  },
  "language_info": {
   "codemirror_mode": {
    "name": "ipython",
    "version": 3
   },
   "file_extension": ".py",
   "mimetype": "text/x-python",
   "name": "python",
   "nbconvert_exporter": "python",
   "pygments_lexer": "ipython3",
   "version": "3.8.5"
  }
 },
 "nbformat": 4,
 "nbformat_minor": 4
}
